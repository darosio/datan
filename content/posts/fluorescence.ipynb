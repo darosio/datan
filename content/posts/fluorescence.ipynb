{
 "cells": [
  {
   "cell_type": "markdown",
   "metadata": {},
   "source": [
    "Let us define:\n",
    "\n",
    "- $d(\\lambda_x, \\lambda_m)$ = detection efficiency, proportional to solid angle geometry, detector quantum efficiency and optical path trasmission efficiency (comprising both excitation and emission)\n",
    "- $f(\\lambda)$ = distribution density function of emitted fluorescence (spectrum)\n",
    "- $\\phi$ = Quantum yield of the fluorophore\n",
    "- $I(\\lambda_x,\\cdot)$ = Intensity of the excitation light\n",
    "\n",
    "Emitted fluorescence ($F$) from a solution of N fluorescent species can be expressed as a function of excitation (x) and emission (m) wavelengths as follows.\n",
    "\n",
    "$$\n",
    "    F(\\lambda_x,\\lambda_m) = \\sum_{i=1}^N 2.303 \\epsilon_i(\\lambda_x) c_i l I(\\lambda_x) \\phi_i f_i(\\lambda_m) d(\\lambda_x,\\lambda_m)\n",
    "$$\n",
    "\n",
    "When FRET occurs among (at least 2) species and after defining $\\kappa = 2.303 l$ and $i = D, A$.\n",
    "The length of the optical path l in a microscope can be taken as a constant."
   ]
  },
  {
   "cell_type": "markdown",
   "metadata": {},
   "source": [
    "$$\n",
    "    F(\\lambda_x,\\lambda_m) = \\kappa I(\\lambda_x) d(\\lambda_x,\\lambda_m) [\\epsilon_D(\\lambda_x) c_D \\phi_D f_D(\\lambda_m) (1-E) +\n",
    "                                                 \\epsilon_A(\\lambda_x) c_A \\phi_A f_A(\\lambda_m) +\n",
    "                                                 E \\epsilon_D(\\lambda_x) c_D \\phi_A f_A(\\lambda_m)]\n",
    "$$"
   ]
  },
  {
   "cell_type": "markdown",
   "metadata": {},
   "source": [
    "$$\n",
    "    \\int_X \\int_M I(\\lambda_x) d(\\lambda_x, \\lambda_m) f(\\lambda_m) d\\lambda_x d\\lambda_m = \n",
    "    \\int_X \\int_M I(\\lambda_x) d(\\lambda_x) d(\\lambda_m) f(\\lambda_m) d\\lambda_x d\\lambda_m = \n",
    "    \\int_X I(\\lambda_x) d(\\lambda_x) d\\lambda_x   \\int_M d(\\lambda_m) f(\\lambda_m) d\\lambda_m\n",
    "    \\equiv I_X F_i^M\n",
    "$$"
   ]
  },
  {
   "cell_type": "markdown",
   "metadata": {},
   "source": [
    "$$\n",
    "    F(X, M) \\equiv \\int_X \\int_M F(\\lambda_x, \\lambda_m) d\\lambda_x d\\lambda_m = \n",
    "        \\kappa I_X\n",
    "$$"
   ]
  }
 ],
 "metadata": {
  "kernelspec": {
   "display_name": "Python 3",
   "language": "python",
   "name": "python3"
  },
  "language_info": {
   "codemirror_mode": {
    "name": "ipython",
    "version": 3
   },
   "file_extension": ".py",
   "mimetype": "text/x-python",
   "name": "python",
   "nbconvert_exporter": "python",
   "pygments_lexer": "ipython3",
   "version": "3.5.1"
  }
 },
 "nbformat": 4,
 "nbformat_minor": 0
}
